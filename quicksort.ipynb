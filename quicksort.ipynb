{
 "cells": [
  {
   "cell_type": "markdown",
   "metadata": {},
   "source": [
    "# Extra Credit (4 pts) - Quick Sort\n",
    "\n",
    "Questions below refer the **Quick Sort** algorithm.\n",
    "\n",
    "![Quick Sort](images/quicksort.png)"
   ]
  },
  {
   "cell_type": "markdown",
   "metadata": {},
   "source": [
    "1. (1 pt) Write a breif dscription of how you would implement the quick sort algorithm."
   ]
  },
  {
   "cell_type": "raw",
   "metadata": {},
   "source": [
    "Choose a pivot item in the list.\n",
    "Partition items into those less than or greater than the pivot.\n",
    "New order is less than partition followed by items equal to the pivot followed by greater than partition.\n",
    "Recursively apply the above two operations to the less than and greater than partitions."
   ]
  },
  {
   "cell_type": "markdown",
   "metadata": {},
   "source": [
    "2. (2 pts) Write pseudocode for a function that implements the quick sort algorithm on an input array. Hint: You may want to call your function recursively."
   ]
  },
  {
   "cell_type": "raw",
   "metadata": {},
   "source": [
    "FUNCTION (list of items)\n",
    "    IF less than two items\n",
    "        Nothing to sort.\n",
    "        This will occur when we have reached the leaves of the partitioning tree for our starting list of items.\n",
    "        RETURN the input list\n",
    "    ENDIF\n",
    "    Select pivot item in list (just arbitrarily choose first item).\n",
    "    Get a sorted list of all items less than the pivot by recursively calling this funciton on those items.\n",
    "    Get a sorted list of all items greater than the pivot by recursively calling this funciton on those items.\n",
    "    RETURN a sorted list composed of\n",
    "        the sorted items less than the pivot \n",
    "        followed by all items equal to the pivot\n",
    "        vollowed by the sorted items greater than the pivot.\n",
    "ENDFUNCTION"
   ]
  },
  {
   "cell_type": "markdown",
   "metadata": {},
   "source": [
    "3. (1 pts) Translate your pseudocode to code and show that your sorting function works."
   ]
  },
  {
   "cell_type": "code",
   "execution_count": 29,
   "metadata": {},
   "outputs": [],
   "source": [
    "# Note, this implementation is not the most efficent, but it is simple and clear.\n",
    "def quicksort(items):\n",
    "    if len(items) < 2:\n",
    "        return items\n",
    "    else:\n",
    "        pivot = items[0]\n",
    "        low = quicksort([x for x in items if x < pivot])\n",
    "        mid = [x for x in items if x == pivot]\n",
    "        high = quicksort([x for x in items if x > pivot])\n",
    "        return low + mid + high"
   ]
  },
  {
   "cell_type": "code",
   "execution_count": 30,
   "metadata": {},
   "outputs": [
    {
     "data": {
      "text/plain": [
       "array([5, 3, 4, 6, 1, 5, 4, 9, 7, 6, 4, 1, 4, 8, 0, 0, 9, 6, 4, 0])"
      ]
     },
     "execution_count": 30,
     "metadata": {},
     "output_type": "execute_result"
    }
   ],
   "source": [
    "import numpy as np\n",
    "items = np.random.randint(0, 10, (20,))\n",
    "items"
   ]
  },
  {
   "cell_type": "code",
   "execution_count": 31,
   "metadata": {},
   "outputs": [
    {
     "data": {
      "text/plain": [
       "[0, 0, 0, 1, 1, 3, 4, 4, 4, 4, 4, 5, 5, 6, 6, 6, 7, 8, 9, 9]"
      ]
     },
     "execution_count": 31,
     "metadata": {},
     "output_type": "execute_result"
    }
   ],
   "source": [
    "sortedItems = quicksort(items)\n",
    "sortedItems"
   ]
  }
 ],
 "metadata": {
  "kernelspec": {
   "display_name": "Python 3",
   "language": "python",
   "name": "python3"
  },
  "language_info": {
   "codemirror_mode": {
    "name": "ipython",
    "version": 3
   },
   "file_extension": ".py",
   "mimetype": "text/x-python",
   "name": "python",
   "nbconvert_exporter": "python",
   "pygments_lexer": "ipython3",
   "version": "3.7.5"
  }
 },
 "nbformat": 4,
 "nbformat_minor": 4
}
