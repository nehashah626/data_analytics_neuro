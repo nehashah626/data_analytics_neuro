{
 "cells": [
  {
   "cell_type": "markdown",
   "metadata": {},
   "source": [
    "# Homework (10 pts) - Python Basics"
   ]
  },
  {
   "cell_type": "markdown",
   "metadata": {},
   "source": [
    "1. (1 pt) Create a markdown cell with a header titled \"My Favorite Animals\" and a bulleted list of three of your favorite animals."
   ]
  },
  {
   "cell_type": "markdown",
   "metadata": {},
   "source": [
    "# My Favorite Animals\n",
    "\n",
    "* Orca\n",
    "* Wolf\n",
    "* Gecko"
   ]
  },
  {
   "cell_type": "markdown",
   "metadata": {},
   "source": [
    "2. (1 pt) Create a list variable called **animals** that contains a string for each of the animals in the above markdown cell."
   ]
  },
  {
   "cell_type": "code",
   "execution_count": 2,
   "metadata": {},
   "outputs": [
    {
     "data": {
      "text/plain": [
       "['Orca', 'Wolf', 'Gecko']"
      ]
     },
     "execution_count": 2,
     "metadata": {},
     "output_type": "execute_result"
    }
   ],
   "source": [
    "animals = [\"Orca\", \"Wolf\", \"Gecko\"]\n",
    "animals"
   ]
  },
  {
   "cell_type": "markdown",
   "metadata": {},
   "source": [
    "3. (1 pt) Add the two animals \"Puma\" and \"Jaguar\" (or some other two if you already have these) to the end of the **animals** list."
   ]
  },
  {
   "cell_type": "code",
   "execution_count": 3,
   "metadata": {},
   "outputs": [
    {
     "data": {
      "text/plain": [
       "['Orca', 'Wolf', 'Gecko', 'Puma', 'Jaguar']"
      ]
     },
     "execution_count": 3,
     "metadata": {},
     "output_type": "execute_result"
    }
   ],
   "source": [
    "animals.extend([\"Puma\", \"Jaguar\"])\n",
    "animals"
   ]
  },
  {
   "cell_type": "markdown",
   "metadata": {},
   "source": [
    "4. (1 pt) Copy the list into a new variable and remove the second animal from the copied list. Show that the original **animals** list is unchanged."
   ]
  },
  {
   "cell_type": "code",
   "execution_count": 4,
   "metadata": {},
   "outputs": [
    {
     "name": "stdout",
     "output_type": "stream",
     "text": [
      "['Orca', 'Gecko', 'Puma', 'Jaguar']\n",
      "['Orca', 'Wolf', 'Gecko', 'Puma', 'Jaguar']\n"
     ]
    }
   ],
   "source": [
    "import copy\n",
    "tmp = copy.copy(animals)\n",
    "del tmp[1]\n",
    "\n",
    "print(tmp)\n",
    "print(animals)"
   ]
  },
  {
   "cell_type": "markdown",
   "metadata": {},
   "source": [
    "5. (1 pt) Write a for loop that prints out the index and name of each animal in the **animals** list."
   ]
  },
  {
   "cell_type": "code",
   "execution_count": 5,
   "metadata": {},
   "outputs": [
    {
     "name": "stdout",
     "output_type": "stream",
     "text": [
      "0 Orca\n",
      "1 Wolf\n",
      "2 Gecko\n",
      "3 Puma\n",
      "4 Jaguar\n"
     ]
    }
   ],
   "source": [
    "for index, name in enumerate(animals):\n",
    "    print(index, name)"
   ]
  },
  {
   "cell_type": "markdown",
   "metadata": {},
   "source": [
    "6. (1 pt) Write a for loop that prints the name of each animal in the **animals** list and indicates whether or not the animal is your absolute favorite by appending `\" (Absolute Favorite)\"` to the printed name. !!! Only one animal can be your absolute favorite!"
   ]
  },
  {
   "cell_type": "code",
   "execution_count": 6,
   "metadata": {},
   "outputs": [
    {
     "name": "stdout",
     "output_type": "stream",
     "text": [
      "Orca (Absolute Favorite)\n",
      "Wolf\n",
      "Gecko\n",
      "Puma\n",
      "Jaguar\n"
     ]
    }
   ],
   "source": [
    "for animal in animals:\n",
    "    if animal == \"Orca\":\n",
    "        print(animal + \" (Absolute Favorite)\")\n",
    "    else:\n",
    "        print(animal)"
   ]
  },
  {
   "cell_type": "markdown",
   "metadata": {},
   "source": [
    "7. (1 pt) Create a set called **cats** and add all cats from your **animals** list to the set. Also report how many cats are in your **animals** list by using a formatted print statement."
   ]
  },
  {
   "cell_type": "code",
   "execution_count": 7,
   "metadata": {},
   "outputs": [
    {
     "data": {
      "text/plain": [
       "{'Jaguar', 'Puma'}"
      ]
     },
     "execution_count": 7,
     "metadata": {},
     "output_type": "execute_result"
    }
   ],
   "source": [
    "cats = set()\n",
    "cats.add(\"Puma\")\n",
    "cats.add(\"Jaguar\")\n",
    "cats"
   ]
  },
  {
   "cell_type": "code",
   "execution_count": 7,
   "metadata": {},
   "outputs": [
    {
     "name": "stdout",
     "output_type": "stream",
     "text": [
      "The animals list contains 2 cats.\n"
     ]
    }
   ],
   "source": [
    "print(f\"The animals list contains {len(cats)} cats.\")"
   ]
  },
  {
   "cell_type": "markdown",
   "metadata": {},
   "source": [
    "8. (1 pt) Loop through the **animals** list and print out the names of only those animals that are in the **cats** set."
   ]
  },
  {
   "cell_type": "code",
   "execution_count": 8,
   "metadata": {},
   "outputs": [
    {
     "name": "stdout",
     "output_type": "stream",
     "text": [
      "Puma\n",
      "Jaguar\n"
     ]
    }
   ],
   "source": [
    "for animal in animals:\n",
    "    if animal in cats:\n",
    "        print(animal)"
   ]
  },
  {
   "cell_type": "markdown",
   "metadata": {},
   "source": [
    "9. (1 pt) Print out the names of the animals in the **animals** list in reverse order."
   ]
  },
  {
   "cell_type": "code",
   "execution_count": 9,
   "metadata": {},
   "outputs": [
    {
     "name": "stdout",
     "output_type": "stream",
     "text": [
      "Jaguar\n",
      "Puma\n",
      "Gecko\n",
      "Wolf\n",
      "Orca\n"
     ]
    }
   ],
   "source": [
    "for animal in reversed(animals):\n",
    "    print(animal)"
   ]
  },
  {
   "cell_type": "markdown",
   "metadata": {},
   "source": [
    "10. (1 pt) Change the name of your favorite animal in the **animals** list to `\"___ are the best!\"` where `___` is the name of your favorite animal."
   ]
  },
  {
   "cell_type": "code",
   "execution_count": 10,
   "metadata": {},
   "outputs": [
    {
     "data": {
      "text/plain": [
       "['Orca are the best!', 'Wolf', 'Gecko', 'Puma', 'Jaguar']"
      ]
     },
     "execution_count": 10,
     "metadata": {},
     "output_type": "execute_result"
    }
   ],
   "source": [
    "animals[0] = animals[0] + \" are the best!\"\n",
    "animals"
   ]
  }
 ],
 "metadata": {
  "kernelspec": {
   "display_name": "Python 3",
   "language": "python",
   "name": "python3"
  },
  "language_info": {
   "codemirror_mode": {
    "name": "ipython",
    "version": 3
   },
   "file_extension": ".py",
   "mimetype": "text/x-python",
   "name": "python",
   "nbconvert_exporter": "python",
   "pygments_lexer": "ipython3",
   "version": "3.7.5"
  }
 },
 "nbformat": 4,
 "nbformat_minor": 4
}
