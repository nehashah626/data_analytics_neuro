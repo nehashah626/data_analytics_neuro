{
 "cells": [
  {
   "cell_type": "markdown",
   "metadata": {},
   "source": [
    "# Homework (12 pts) - Regularization"
   ]
  },
  {
   "cell_type": "code",
   "execution_count": 2,
   "metadata": {},
   "outputs": [],
   "source": [
    "from sklearn import datasets\n",
    "\n",
    "dataset = datasets.load_wine()"
   ]
  },
  {
   "cell_type": "markdown",
   "metadata": {},
   "source": [
    "---\n",
    "1. (5 pts) Use sklearn's `RidgeCV` class to perform Ridge regression on the above dataset. Try 1000 values of the hyperparameter $\\alpha$ on a logscale from 0.01 to 100.\n",
    "\n",
    "* !!! Make sure to standardize all features and target data first.\n",
    "* Plot the model's coefficents as a bar plot with feature names on the x-axis exactly as for the previous homework on linear regression.\n",
    "* Report the optimal value for the hyperparameter $\\alpha$."
   ]
  },
  {
   "cell_type": "markdown",
   "metadata": {},
   "source": [
    "---\n",
    "2. (5 pts) Use sklearn's `LassoCV` class to perform Lasso regression on the above dataset. Try 1000 values of the hyperparameter $\\alpha$ on a logscale from 0.0001 to 1.\n",
    "\n",
    "* !!! Make sure to standardize all features and target data first.\n",
    "* Plot the model's coefficents as a bar plot with feature names on the x-axis exactly as for the previous homework on linear regression.\n",
    "* Report the optimal value for the hyperparameter $\\alpha$."
   ]
  },
  {
   "cell_type": "markdown",
   "metadata": {},
   "source": [
    "---\n",
    "2. (2 pts) What is similar/different between the two model's?"
   ]
  }
 ],
 "metadata": {
  "kernelspec": {
   "display_name": "Python 3",
   "language": "python",
   "name": "python3"
  },
  "language_info": {
   "codemirror_mode": {
    "name": "ipython",
    "version": 3
   },
   "file_extension": ".py",
   "mimetype": "text/x-python",
   "name": "python",
   "nbconvert_exporter": "python",
   "pygments_lexer": "ipython3",
   "version": "3.7.5"
  }
 },
 "nbformat": 4,
 "nbformat_minor": 4
}
