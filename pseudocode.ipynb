{
 "cells": [
  {
   "cell_type": "markdown",
   "metadata": {},
   "source": [
    "# Homework (8 pts) - Pseudocode\n",
    "\n",
    "Questions below refer to the **Selection Sort** algorithm. See image depiction below.\n",
    "\n",
    "![Selection Sort](images/selectionsort.jpg)"
   ]
  },
  {
   "cell_type": "markdown",
   "metadata": {},
   "source": [
    "1. (2 pt) Write a breif dscription of how you would implement the selection sort algorithm."
   ]
  },
  {
   "cell_type": "raw",
   "metadata": {},
   "source": [
    "Loop through all unsorted items and swap the minimum item with the first unsorted item. Repeat until all items are sorted."
   ]
  },
  {
   "cell_type": "markdown",
   "metadata": {},
   "source": [
    "2. (3 pts) Write pseudocode for a function that implements the selection sort algorithm on an input array."
   ]
  },
  {
   "cell_type": "raw",
   "metadata": {},
   "source": [
    "FUNCTION ( list of items )\n",
    "    FOR each item index\n",
    "        Find the minimum item from index to end\n",
    "        Swap the minimum item with the item at index\n",
    "    ENDFOR\n",
    "ENDFUNTION"
   ]
  },
  {
   "cell_type": "markdown",
   "metadata": {},
   "source": [
    "3. (3 pts) Translate your pseudocode to code and show that your sorting function works."
   ]
  },
  {
   "cell_type": "code",
   "execution_count": 1,
   "metadata": {},
   "outputs": [],
   "source": [
    "def selectionSort(items):\n",
    "    N = len(items)\n",
    "    for i in range(N):\n",
    "        minIdx = i\n",
    "        for j in range(i, N):\n",
    "            if items[j] < items[minIdx]:\n",
    "                minIdx = j\n",
    "        if minIdx != i:\n",
    "            items[i], items[minIdx] = items[minIdx], items[i]"
   ]
  },
  {
   "cell_type": "code",
   "execution_count": 4,
   "metadata": {},
   "outputs": [
    {
     "data": {
      "text/plain": [
       "array([2, 9, 5, 9, 9, 0, 5, 2, 4, 1, 4, 8, 8, 3, 5, 9, 1, 3, 1, 7])"
      ]
     },
     "execution_count": 4,
     "metadata": {},
     "output_type": "execute_result"
    }
   ],
   "source": [
    "import numpy as np\n",
    "\n",
    "items = np.random.randint(0, 10, 20)\n",
    "items"
   ]
  },
  {
   "cell_type": "code",
   "execution_count": 5,
   "metadata": {},
   "outputs": [
    {
     "data": {
      "text/plain": [
       "array([0, 1, 1, 1, 2, 2, 3, 3, 4, 4, 5, 5, 5, 7, 8, 8, 9, 9, 9, 9])"
      ]
     },
     "execution_count": 5,
     "metadata": {},
     "output_type": "execute_result"
    }
   ],
   "source": [
    "selectionSort(items)\n",
    "items"
   ]
  }
 ],
 "metadata": {
  "kernelspec": {
   "display_name": "Python 3",
   "language": "python",
   "name": "python3"
  },
  "language_info": {
   "codemirror_mode": {
    "name": "ipython",
    "version": 3
   },
   "file_extension": ".py",
   "mimetype": "text/x-python",
   "name": "python",
   "nbconvert_exporter": "python",
   "pygments_lexer": "ipython3",
   "version": "3.7.5"
  }
 },
 "nbformat": 4,
 "nbformat_minor": 4
}
